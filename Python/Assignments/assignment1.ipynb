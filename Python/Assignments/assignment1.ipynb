{
 "cells": [
  {
   "cell_type": "markdown",
   "id": "f4c14030",
   "metadata": {},
   "source": [
    "__1. In the below elements which of them are values or an expression? eg:- values can be integer or string and expressions will be mathematical operators.\n",
    "  *,'hello', -87.8, -, /, +, 6__\n"
   ]
  },
  {
   "cell_type": "markdown",
   "id": "d3de26de",
   "metadata": {},
   "source": [
    "__Ans.__  Mathematical Operators : * , -, /, +\n",
    "\n",
    "      Values : 'hello', -87.8, 6\n"
   ]
  },
  {
   "cell_type": "markdown",
   "id": "5e1881cc",
   "metadata": {},
   "source": [
    "__2. What is the difference between string and variable?__"
   ]
  },
  {
   "cell_type": "markdown",
   "id": "95453ac6",
   "metadata": {},
   "source": [
    "__Ans.__ A string is a combination of alphabets, words or other characters which are enclosed between double(\"\") quotes or single('') quotes, while variables are like containers where we can store data or assign values."
   ]
  },
  {
   "cell_type": "markdown",
   "id": "fc6dbf67",
   "metadata": {},
   "source": [
    "__3.Describe three different data types__"
   ]
  },
  {
   "cell_type": "markdown",
   "id": "053cb42b",
   "metadata": {},
   "source": [
    "Ans. In python mainly there are four types of data types available <br>\n",
    "     __String(str)__ :  string is a combination of alphabets, words or other characters which are enclosed between double(\"\") quotes or single('') quotes ex: \"Hello\", \"hai\" <br>\n",
    "     __int__ : Int data type is used to represent the integer values <br>\n",
    "     __float__ : float data type is used to represent floating-point number values\n",
    " "
   ]
  },
  {
   "cell_type": "code",
   "execution_count": 2,
   "id": "4b480b6a",
   "metadata": {},
   "outputs": [
    {
     "name": "stdout",
     "output_type": "stream",
     "text": [
      "name data type is  <class 'str'>\n",
      "age data type is <class 'int'>\n",
      "salary data type is <class 'float'>\n"
     ]
    }
   ],
   "source": [
    "# Example for string data type\n",
    "name = \"Himasai\"\n",
    "print(\"name data type is \",type(name))\n",
    "# Example for int data type\n",
    "age = 24\n",
    "print(\"age data type is\", type(age))\n",
    "# Example for float data type\n",
    "salary = 25234.87\n",
    "print(\"salary data type is\", type(salary))"
   ]
  },
  {
   "cell_type": "code",
   "execution_count": null,
   "id": "c2df290d",
   "metadata": {},
   "outputs": [],
   "source": [
    "name data type is  <class 'str'>\n",
    "age data type is <class 'int'>\n",
    "salary data type is <class 'float'>"
   ]
  },
  {
   "cell_type": "markdown",
   "id": "e953be34",
   "metadata": {},
   "source": [
    "__4. What is an expression made up of? What do all expressions do?__"
   ]
  },
  {
   "cell_type": "markdown",
   "id": "041ebb52",
   "metadata": {},
   "source": [
    "__Ans.__ Expression is the combinaton.of mathematical operators, variables(or Constants). It consists of one or more operand and zero or more operators to produce a value.In python if we print an expression it will evaluate the expression and prints the result.\n"
   ]
  },
  {
   "cell_type": "markdown",
   "id": "f1816056",
   "metadata": {},
   "source": [
    "__5. This assignment statements, like spam = 10. What is the difference between an\n",
    "expression and a statement?__"
   ]
  },
  {
   "cell_type": "markdown",
   "id": "59d7d3e6",
   "metadata": {},
   "source": [
    "__Ans.__ An expression is a combination of values, variables, and operators.When we type an expression at the prompt, the interpreter evaluates it, which means that it finds the value of the expression. an expression will returns the result <br>\n",
    "A statement is a unit of code that has an effect, like creating a variable or displaying a value.When we type a statement, the interpreter executes it, which means that it does whatever the statement says. It doesnt have any return values  it just print whatever we give"
   ]
  },
  {
   "cell_type": "markdown",
   "id": "79a620ca",
   "metadata": {},
   "source": [
    "__6. After running the following code, what does the variable bacon contain?\n",
    "bacon = 22\n",
    "bacon + 1__"
   ]
  },
  {
   "cell_type": "code",
   "execution_count": 3,
   "id": "808900a7",
   "metadata": {},
   "outputs": [
    {
     "name": "stdout",
     "output_type": "stream",
     "text": [
      "22\n"
     ]
    }
   ],
   "source": [
    "bacon = 22\n",
    "bacon + 1\n",
    "print(bacon)"
   ]
  },
  {
   "cell_type": "markdown",
   "id": "a451d417",
   "metadata": {},
   "source": [
    "the variable bacon contains 22 , first we assigned 22 and then added 1 but we are not updated the varible bacon...so bacon contains 22"
   ]
  },
  {
   "cell_type": "markdown",
   "id": "7d1e4ebf",
   "metadata": {},
   "source": [
    "__7. What should the values of the following two terms be?\n",
    "&#39;spam&#39; + &#39;spamspam&#39;\n",
    "&#39;spam&#39; * 3__"
   ]
  },
  {
   "cell_type": "markdown",
   "id": "1423ac43",
   "metadata": {},
   "source": [
    "Both expressions evaluate to the string 'spamspamspam' Where as the first expression follows String Concatentation and the second expression follows String Multiplication"
   ]
  },
  {
   "cell_type": "code",
   "execution_count": 5,
   "id": "2a87fe41",
   "metadata": {},
   "outputs": [
    {
     "name": "stdout",
     "output_type": "stream",
     "text": [
      "spamspamspam\n",
      "spamspamspam\n"
     ]
    }
   ],
   "source": [
    "print(\"spam\" + \"spamspam\")\n",
    "print('spam'*3)"
   ]
  },
  {
   "cell_type": "markdown",
   "id": "455e0baf",
   "metadata": {},
   "source": [
    "__8. Why is eggs a valid variable name while 100 is invalid?__"
   ]
  },
  {
   "cell_type": "markdown",
   "id": "ef9e9af0",
   "metadata": {},
   "source": [
    "__Ans.__ for variable declaration,we cannot use number if we assign value to a number it will throw an error. thast why 100 is invalid where as eggs is valid because, in python there are some rules to give names to variable like varible can have a short name or more descriptive name<br>\n",
    "A variable name must start with a letter or the underscore character<br>\n",
    "A variable name cannot start with a number <br>\n",
    "A variable name can only contain alpha-numeric characters and underscores (A-z, 0-9, and _ )<br>\n",
    "Variable names are case-sensitive (age, Age and AGE are three different variables)<br>"
   ]
  },
  {
   "cell_type": "markdown",
   "id": "bebbc57a",
   "metadata": {},
   "source": [
    "__9. What three functions can be used to get the integer, floating-point number, or string\n",
    "version of a value?__"
   ]
  },
  {
   "cell_type": "markdown",
   "id": "e43a5371",
   "metadata": {},
   "source": [
    "int(), float(), str()"
   ]
  },
  {
   "cell_type": "code",
   "execution_count": 7,
   "id": "e2f756a2",
   "metadata": {},
   "outputs": [
    {
     "name": "stdout",
     "output_type": "stream",
     "text": [
      "24 <class 'int'>\n",
      "24.0 <class 'float'>\n",
      "24 <class 'str'>\n"
     ]
    }
   ],
   "source": [
    "print(int(24), type(int(24)))\n",
    "print(float(24), type(float(24)))\n",
    "print(str(24), type(str(24)))"
   ]
  },
  {
   "cell_type": "markdown",
   "id": "89bf2efb",
   "metadata": {},
   "source": [
    "__10. Why does this expression cause an error? How can you fix it?\n",
    "&#39;I have eaten &#39; + 99 + &#39; burritos.&#39;__"
   ]
  },
  {
   "cell_type": "markdown",
   "id": "4f101245",
   "metadata": {},
   "source": [
    "because of 99 we are getting this error, here we are trying to concatenate str with int , because of that we are getting error.To fix this error we need to type cast the int value to str."
   ]
  },
  {
   "cell_type": "code",
   "execution_count": 9,
   "id": "1926c51f",
   "metadata": {},
   "outputs": [
    {
     "name": "stdout",
     "output_type": "stream",
     "text": [
      "I have eaten 99 burritos.\n"
     ]
    }
   ],
   "source": [
    "print('I have eaten ' + str(99) + ' burritos.')"
   ]
  }
 ],
 "metadata": {
  "kernelspec": {
   "display_name": "Python 3 (ipykernel)",
   "language": "python",
   "name": "python3"
  },
  "language_info": {
   "codemirror_mode": {
    "name": "ipython",
    "version": 3
   },
   "file_extension": ".py",
   "mimetype": "text/x-python",
   "name": "python",
   "nbconvert_exporter": "python",
   "pygments_lexer": "ipython3",
   "version": "3.9.12"
  }
 },
 "nbformat": 4,
 "nbformat_minor": 5
}
